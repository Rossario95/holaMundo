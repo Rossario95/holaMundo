{
  "nbformat": 4,
  "nbformat_minor": 0,
  "metadata": {
    "colab": {
      "provenance": [],
      "authorship_tag": "ABX9TyNEm4mVm3lnvZZNE6ikR+YZ",
      "include_colab_link": true
    },
    "kernelspec": {
      "name": "python3",
      "display_name": "Python 3"
    },
    "language_info": {
      "name": "python"
    }
  },
  "cells": [
    {
      "cell_type": "markdown",
      "metadata": {
        "id": "view-in-github",
        "colab_type": "text"
      },
      "source": [
        "<a href=\"https://colab.research.google.com/github/Rossario95/holaMundo/blob/main/filasColumnas_py.ipynb\" target=\"_parent\"><img src=\"https://colab.research.google.com/assets/colab-badge.svg\" alt=\"Open In Colab\"/></a>"
      ]
    },
    {
      "cell_type": "markdown",
      "source": [
        "Programa en python que genera filas y columnas sin funciones"
      ],
      "metadata": {
        "id": "o7XzcMZMEE1w"
      }
    },
    {
      "cell_type": "code",
      "execution_count": 1,
      "metadata": {
        "colab": {
          "base_uri": "https://localhost:8080/"
        },
        "id": "pGXXvINWDFWB",
        "outputId": "b82f180c-2ff1-4ee2-a7e1-ba826f04c1b4"
      },
      "outputs": [
        {
          "output_type": "stream",
          "name": "stdout",
          "text": [
            "Ingrese el numero de filas :\n",
            "3\n",
            "Ingrese el numero de columnas :\n",
            "2\n",
            "12\n",
            "12\n",
            "12\n"
          ]
        }
      ],
      "source": [
        "print(\"Ingrese el numero de filas :\")\n",
        "filas=int(input())\n",
        "print (\"Ingrese el numero de columnas :\")\n",
        "columnas=int(input())\n",
        "\n",
        "i=1\n",
        "while i<= filas:\n",
        "  j=1\n",
        "  while j<=columnas:\n",
        "    print (j,end=\"\")\n",
        "    j+=1\n",
        "  print()\n",
        "  i+=1\n"
      ]
    }
  ]
}